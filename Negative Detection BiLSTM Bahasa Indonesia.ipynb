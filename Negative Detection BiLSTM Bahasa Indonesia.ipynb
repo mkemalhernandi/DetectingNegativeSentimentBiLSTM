{
  "nbformat": 4,
  "nbformat_minor": 0,
  "metadata": {
    "colab": {
      "name": "Salinan dari New Negative Detection Final2_2BlockBiLSTM_RMSPropLearningRate0.0001.ipynb",
      "provenance": [],
      "collapsed_sections": []
    },
    "kernelspec": {
      "display_name": "Python 3",
      "name": "python3"
    }
  },
  "cells": [
    {
      "cell_type": "code",
      "metadata": {
        "colab": {
          "base_uri": "https://localhost:8080/"
        },
        "id": "fbP4Pjc_OhaD",
        "outputId": "86986364-c2f3-4593-b263-274f36e449dc"
      },
      "source": [
        "from google.colab import drive\n",
        "drive.mount('/content/gdrive')"
      ],
      "execution_count": null,
      "outputs": [
        {
          "output_type": "stream",
          "text": [
            "Drive already mounted at /content/gdrive; to attempt to forcibly remount, call drive.mount(\"/content/gdrive\", force_remount=True).\n"
          ],
          "name": "stdout"
        }
      ]
    },
    {
      "cell_type": "code",
      "metadata": {
        "id": "-I89Bo5dOncC"
      },
      "source": [
        "import numpy as np\n",
        "import pandas as pd\n",
        "import matplotlib.pyplot as plt\n",
        "\n",
        "from sklearn.model_selection import train_test_split\n",
        "from sklearn.metrics import classification_report, precision_recall_curve\n",
        "\n",
        "import re\n",
        "\n",
        "import nltk\n",
        "from nltk.corpus import stopwords\n",
        "from nltk.stem import WordNetLemmatizer #word stemmer class\n",
        "lemma = WordNetLemmatizer()\n",
        "\n",
        "from keras.preprocessing.text import Tokenizer\n",
        "from keras.preprocessing.sequence import pad_sequences\n",
        "from keras.models import Sequential\n",
        "from keras.layers import Dense, Bidirectional, LSTM, Dropout, BatchNormalization\n",
        "from keras.layers.embeddings import Embedding"
      ],
      "execution_count": null,
      "outputs": []
    },
    {
      "cell_type": "code",
      "metadata": {
        "colab": {
          "base_uri": "https://localhost:8080/"
        },
        "id": "rib5j05CO3gP",
        "outputId": "b168baec-6ab3-4033-9abe-200e7f00739f"
      },
      "source": [
        "pip install --upgrade gensim"
      ],
      "execution_count": null,
      "outputs": [
        {
          "output_type": "stream",
          "text": [
            "Requirement already up-to-date: gensim in /usr/local/lib/python3.7/dist-packages (4.0.1)\n",
            "Requirement already satisfied, skipping upgrade: numpy>=1.11.3 in /usr/local/lib/python3.7/dist-packages (from gensim) (1.19.5)\n",
            "Requirement already satisfied, skipping upgrade: smart-open>=1.8.1 in /usr/local/lib/python3.7/dist-packages (from gensim) (5.1.0)\n",
            "Requirement already satisfied, skipping upgrade: scipy>=0.18.1 in /usr/local/lib/python3.7/dist-packages (from gensim) (1.4.1)\n"
          ],
          "name": "stdout"
        }
      ]
    },
    {
      "cell_type": "code",
      "metadata": {
        "colab": {
          "base_uri": "https://localhost:8080/"
        },
        "id": "DjU1j1j5O4-n",
        "outputId": "92b51356-4fba-4c68-d73f-3b9f90451234"
      },
      "source": [
        "pip install sastrawi"
      ],
      "execution_count": null,
      "outputs": [
        {
          "output_type": "stream",
          "text": [
            "Requirement already satisfied: sastrawi in /usr/local/lib/python3.7/dist-packages (1.0.1)\n"
          ],
          "name": "stdout"
        }
      ]
    },
    {
      "cell_type": "code",
      "metadata": {
        "id": "L9-QQtpgO7aX"
      },
      "source": [
        "\n",
        "# Utilities\n",
        "import re\n",
        "import pickle\n",
        "import numpy as np\n",
        "import pandas as pd\n",
        "\n",
        "# Plot libraries\n",
        "import seaborn as sns\n",
        "from wordcloud import WordCloud\n",
        "import matplotlib.pyplot as plt\n",
        "from gensim.models.fasttext import FastText"
      ],
      "execution_count": null,
      "outputs": []
    },
    {
      "cell_type": "code",
      "metadata": {
        "colab": {
          "base_uri": "https://localhost:8080/",
          "height": 423
        },
        "id": "oVnYNajjO9ee",
        "outputId": "0ff90575-81fb-4272-b537-c8d98fd90fb3"
      },
      "source": [
        "DATASET_ENCODING = \"ISO-8859-1\"\n",
        "dataset = pd.read_csv('/content/gdrive/MyDrive/Colab Notebooks/Tugas Akhir/NegativeDetection.csv', encoding=DATASET_ENCODING)\n",
        "\n",
        "\n",
        "dataset['sentiment'] = dataset['sentiment'].replace(1,0)\n",
        "dataset['sentiment'] = dataset['sentiment'].replace(-1,1)\n",
        "display(dataset.head(9000))"
      ],
      "execution_count": null,
      "outputs": [
        {
          "output_type": "display_data",
          "data": {
            "text/html": [
              "<div>\n",
              "<style scoped>\n",
              "    .dataframe tbody tr th:only-of-type {\n",
              "        vertical-align: middle;\n",
              "    }\n",
              "\n",
              "    .dataframe tbody tr th {\n",
              "        vertical-align: top;\n",
              "    }\n",
              "\n",
              "    .dataframe thead th {\n",
              "        text-align: right;\n",
              "    }\n",
              "</style>\n",
              "<table border=\"1\" class=\"dataframe\">\n",
              "  <thead>\n",
              "    <tr style=\"text-align: right;\">\n",
              "      <th></th>\n",
              "      <th>sentiment</th>\n",
              "      <th>tweet</th>\n",
              "    </tr>\n",
              "  </thead>\n",
              "  <tbody>\n",
              "    <tr>\n",
              "      <th>0</th>\n",
              "      <td>1</td>\n",
              "      <td>pernah pake indihome dan sekarang pake first m...</td>\n",
              "    </tr>\n",
              "    <tr>\n",
              "      <th>1</th>\n",
              "      <td>1</td>\n",
              "      <td>akhirnya seminggu ga ada solusi ke cilacapkata...</td>\n",
              "    </tr>\n",
              "    <tr>\n",
              "      <th>2</th>\n",
              "      <td>1</td>\n",
              "      <td>lama lama gua jual ni router ama stb box indih...</td>\n",
              "    </tr>\n",
              "    <tr>\n",
              "      <th>3</th>\n",
              "      <td>1</td>\n",
              "      <td>gak perlu dijawab lagi krn td siang sdh ada yg...</td>\n",
              "    </tr>\n",
              "    <tr>\n",
              "      <th>4</th>\n",
              "      <td>1</td>\n",
              "      <td>kalo cuma mohon maaf doank mah enak di kalian ...</td>\n",
              "    </tr>\n",
              "    <tr>\n",
              "      <th>...</th>\n",
              "      <td>...</td>\n",
              "      <td>...</td>\n",
              "    </tr>\n",
              "    <tr>\n",
              "      <th>8995</th>\n",
              "      <td>0</td>\n",
              "      <td>aku lebih suka bayar pakai app lebih kudah sih...</td>\n",
              "    </tr>\n",
              "    <tr>\n",
              "      <th>8996</th>\n",
              "      <td>0</td>\n",
              "      <td>sangat membantu aplikasinya karena bisa diguna...</td>\n",
              "    </tr>\n",
              "    <tr>\n",
              "      <th>8997</th>\n",
              "      <td>0</td>\n",
              "      <td>benar bangetcek tagihan jadi lebih mudah</td>\n",
              "    </tr>\n",
              "    <tr>\n",
              "      <th>8998</th>\n",
              "      <td>0</td>\n",
              "      <td>bayar pakai app nya lebih mudah sih</td>\n",
              "    </tr>\n",
              "    <tr>\n",
              "      <th>8999</th>\n",
              "      <td>0</td>\n",
              "      <td>sekarang mau cek tagihan sudah ada aplikasinya...</td>\n",
              "    </tr>\n",
              "  </tbody>\n",
              "</table>\n",
              "<p>9000 rows × 2 columns</p>\n",
              "</div>"
            ],
            "text/plain": [
              "      sentiment                                              tweet\n",
              "0             1  pernah pake indihome dan sekarang pake first m...\n",
              "1             1  akhirnya seminggu ga ada solusi ke cilacapkata...\n",
              "2             1  lama lama gua jual ni router ama stb box indih...\n",
              "3             1  gak perlu dijawab lagi krn td siang sdh ada yg...\n",
              "4             1  kalo cuma mohon maaf doank mah enak di kalian ...\n",
              "...         ...                                                ...\n",
              "8995          0  aku lebih suka bayar pakai app lebih kudah sih...\n",
              "8996          0  sangat membantu aplikasinya karena bisa diguna...\n",
              "8997          0           benar bangetcek tagihan jadi lebih mudah\n",
              "8998          0                bayar pakai app nya lebih mudah sih\n",
              "8999          0  sekarang mau cek tagihan sudah ada aplikasinya...\n",
              "\n",
              "[9000 rows x 2 columns]"
            ]
          },
          "metadata": {
            "tags": []
          }
        }
      ]
    },
    {
      "cell_type": "code",
      "metadata": {
        "colab": {
          "base_uri": "https://localhost:8080/",
          "height": 295
        },
        "id": "OxF9G59BPRJX",
        "outputId": "d4b3bfc2-335c-4e56-ad5a-aef3cf8419f6"
      },
      "source": [
        "ax = dataset.groupby('sentiment').count().plot(kind='bar', title='Distribution of data',\n",
        "                                               legend=False)\n",
        "ax = ax.set_xticklabels(['Negative','Positive'], rotation=0)"
      ],
      "execution_count": null,
      "outputs": [
        {
          "output_type": "display_data",
          "data": {
            "image/png": "[encoded data removed]",
            "text/plain": [
              "<Figure size 432x288 with 1 Axes>"
            ]
          },
          "metadata": {
            "tags": [],
            "needs_background": "light"
          }
        }
      ]
    },
    {
      "cell_type": "code",
      "metadata": {
        "id": "zmSfj-3WPcX3"
      },
      "source": [
        " # Reading contractions.csv and storing it as a dict.\n",
        "# contractions = pd.read_csv('/content/gdrive/MyDrive/Colab Notebooks/Tugas Akhir/contractions.csv', index_col='Contraction')\n",
        "# contractions.index = contractions.index.str.lower()\n",
        "# contractions.Meaning = contractions.Meaning.str.lower()\n",
        "# contractions_dict = contractions.to_dict()['Meaning']\n",
        "from Sastrawi.StopWordRemover.StopWordRemoverFactory import StopWordRemoverFactory\n",
        "from Sastrawi.Stemmer.StemmerFactory import StemmerFactory\n",
        "# Defining regex patterns.\n",
        "urlPattern        = r\"((http://)[^ ]*|(https://)[^ ]*|(www\\.)[^ ]*)\"\n",
        "userPattern       = '@[^\\s]+'\n",
        "hashtagPattern    = '#[^\\s]+'\n",
        "alphaPattern      = \"[^a-z0-9<>]\"\n",
        "sequencePattern   = r\"(.)\\1\\1+\"\n",
        "seqReplacePattern = r\"\\1\\1\"\n",
        "\n",
        "# Defining regex for emojis\n",
        "smileemoji        = r\"[8:=;]['`\\-]?[)d]+\"\n",
        "sademoji          = r\"[8:=;]['`\\-]?\\(+\"\n",
        "neutralemoji      = r\"[8:=;]['`\\-]?[\\/|l*]\"\n",
        "lolemoji          = r\"[8:=;]['`\\-]?p+\"\n",
        "\n",
        "def preprocess_apply(tweet):\n",
        "\n",
        "    # import StopWordRemoverFactory class\n",
        "    factory = StopWordRemoverFactory()\n",
        "    stopword = factory.create_stop_word_remover()\n",
        "    tweet=stopword.remove(tweet)\n",
        "    # print(tweet)\n",
        "\n",
        "    tweet = tweet.lower()\n",
        "\n",
        "  #stemming bahasa indonesia\n",
        "    # factory = StemmerFactory()\n",
        "    # stemmer = factory.create_stemmer()\n",
        "    # tweet = stemmer.stem(tweet)\n",
        "\n",
        "  \n",
        "    # Replace all URls with '<url>'\n",
        "    tweet = re.sub(urlPattern,'<url>',tweet)\n",
        "    # Replace @USERNAME to '<user>'.\n",
        "    tweet = re.sub(userPattern,'<user>', tweet)\n",
        "    # Replace #Hashtags to '<hashtags>'.\n",
        "    tweet = re.sub(userPattern,'<hashtag>', tweet)\n",
        "    \n",
        "    # Replace 3 or more consecutive letters by 2 letter.\n",
        "    tweet = re.sub(sequencePattern, seqReplacePattern, tweet)\n",
        "\n",
        "    # Replace all emojis.\n",
        "    tweet = re.sub(r'<3', '<heart>', tweet)\n",
        "    tweet = re.sub(smileemoji, '<smile>', tweet)\n",
        "    tweet = re.sub(sademoji, '<sadface>', tweet)\n",
        "    tweet = re.sub(neutralemoji, '<neutralface>', tweet)\n",
        "    tweet = re.sub(lolemoji, '<lolface>', tweet)\n",
        "\n",
        "    # for contraction, replacement in contractions_dict.items():\n",
        "    #     tweet = tweet.replace(contraction, replacement)\n",
        "\n",
        "    # Remove non-alphanumeric and symbols\n",
        "    tweet = re.sub(alphaPattern, ' ', tweet)\n",
        "\n",
        "    # Adding space on either side of '/' to seperate words (After replacing URLS).\n",
        "    tweet = re.sub(r'/', ' / ', tweet)\n",
        "    return tweet"
      ],
      "execution_count": null,
      "outputs": []
    },
    {
      "cell_type": "code",
      "metadata": {
        "id": "ACEzTyneQ92P",
        "colab": {
          "base_uri": "https://localhost:8080/"
        },
        "outputId": "20708cab-5383-496f-fab4-40a0ded3e147"
      },
      "source": [
        "%%time\n",
        "dataset['processed_text'] = dataset.tweet.apply(preprocess_apply)"
      ],
      "execution_count": null,
      "outputs": [
        {
          "output_type": "stream",
          "text": [
            "CPU times: user 1.03 s, sys: 976 µs, total: 1.03 s\n",
            "Wall time: 1.03 s\n"
          ],
          "name": "stdout"
        }
      ]
    },
    {
      "cell_type": "code",
      "metadata": {
        "colab": {
          "base_uri": "https://localhost:8080/"
        },
        "id": "c0hzAS-cRD6v",
        "outputId": "093a903c-c91c-42f3-9c17-38329f1a6059"
      },
      "source": [
        "count=0\n",
        "for row in dataset.itertuples():\n",
        "    print(\"Text:\", row[2])\n",
        "    print(\"Processed:\", row[3])\n",
        "    count+=1\n",
        "    if count>10:\n",
        "        break"
      ],
      "execution_count": null,
      "outputs": [
        {
          "output_type": "stream",
          "text": [
            "Text: pernah pake indihome dan sekarang pake first mediamurah euy first mediasinyal juga lumayan sih kalo di tempatku\n",
            "Processed: pernah pake indihome sekarang pake first mediamurah euy first mediasinyal lumayan sih kalo tempatku\n",
            "Text: akhirnya seminggu ga ada solusi ke cilacapkatanya sama sekali belum ada tiket perbaikan buat wifiku dibuatlah tiket dan suruh nunggu lagi hari hari ditunggu belum dateng juga dihari ke adik ke kamtor cilacap lagi dan dibilang hari ini mau datang teknisinya\n",
            "Processed: akhirnya seminggu ga solusi cilacapkatanya sama sekali ada tiket perbaikan buat wifiku dibuatlah tiket suruh nunggu hari hari ditunggu dateng dihari adik kamtor cilacap dan dibilang hari mau datang teknisinya\n",
            "Text: lama lama gua jual ni router ama stb box indihomerefund blm keluar lagi ahelaaah\n",
            "Processed: lama lama gua jual ni router ama stb box indihomerefund blm keluar ahelaah\n",
            "Text: gak perlu dijawab lagi krn td siang sdh ada yg jawabintinya yg bikin saya kecewakenapa di awal pergantian upgrade tidak ada pemebritahuan kalau promo upgradenya hanya berlaku setahun saya bener kaget dg informasi yg saya dpt dari pihak telkom\n",
            "Processed: gak perlu dijawab krn td siang sdh yg jawabintinya yg bikin kecewakenapa awal pergantian upgrade ada pemebritahuan kalau promo upgradenya berlaku setahun bener kaget dg informasi yg dpt pihak telkom\n",
            "Text: kalo cuma mohon maaf doank mah enak di kalian ga enak di customer masa customer terus yg dirugiin sih\n",
            "Processed: kalo cuma mohon maaf doank mah enak kalian ga enak customer masa customer terus yg dirugiin sih\n",
            "Text: hadeuhh indihome masih pagi loh\n",
            "Processed: hadeuhh indihome pagi loh\n",
            "Text: aduh bapak ini bumn dan bumd pada kenapa airnya mati dan keruh udah dua hari jaringan mati butuh hari buat datang perbaikan perasaan dulu hari aja gaklangsung datang terjadi di saat yang bersamaan pula haduh depockkkk\n",
            "Processed: aduh bapak bumn bumd kenapa airnya mati keruh udah hari jaringan mati butuh hari buat datang perbaikan perasaan dulu hari aja gaklangsung datang terjadi saat bersamaan haduh depockk\n",
            "Text: min ini dari kemarin wifi saya gangguan dan gabisa diakses sampe sekarang jg gabisa tolong dong\n",
            "Processed: min dari kemarin wifi gangguan gabisa diakses sampe sekarang jg gabisa dong\n",
            "Text: engga make indihome tapi ni wifi gw tumben lemot anjing\n",
            "Processed: engga make indihome ni wifi gw tumben lemot anjing\n",
            "Text: min tolong di cek untuk no pelanggan dari semalem gangguan teruspadahal udah bayar sebelum tempo\n",
            "Processed: min di cek no pelanggan semalem gangguan teruspadahal udah bayar tempo\n",
            "Text: indihomo kontol jaringan gabener bangsat shame u\n",
            "Processed: indihomo kontol jaringan gabener bangsat shame u\n"
          ],
          "name": "stdout"
        }
      ]
    },
    {
      "cell_type": "code",
      "metadata": {
        "colab": {
          "base_uri": "https://localhost:8080/"
        },
        "id": "NIlKDToOoOHa",
        "outputId": "08546171-47bd-4984-b5c0-268f811f89a5"
      },
      "source": [
        "!pip install fasttext"
      ],
      "execution_count": null,
      "outputs": [
        {
          "output_type": "stream",
          "text": [
            "Collecting fasttext\n",
            "\u001b[?25l  Downloading https://files.pythonhosted.org/packages/f8/85/e2b368ab6d3528827b147fdb814f8189acc981a4bc2f99ab894650e05c40/fasttext-0.9.2.tar.gz (68kB)\n",
            "\r\u001b[K     |████▊                           | 10kB 17.7MB/s eta 0:00:01\r\u001b[K     |█████████▌                      | 20kB 23.0MB/s eta 0:00:01\r\u001b[K     |██████████████▎                 | 30kB 26.2MB/s eta 0:00:01\r\u001b[K     |███████████████████             | 40kB 27.1MB/s eta 0:00:01\r\u001b[K     |███████████████████████▉        | 51kB 28.6MB/s eta 0:00:01\r\u001b[K     |████████████████████████████▋   | 61kB 30.8MB/s eta 0:00:01\r\u001b[K     |████████████████████████████████| 71kB 8.6MB/s \n",
            "\u001b[?25hRequirement already satisfied: pybind11>=2.2 in /usr/local/lib/python3.7/dist-packages (from fasttext) (2.6.2)\n",
            "Requirement already satisfied: setuptools>=0.7.0 in /usr/local/lib/python3.7/dist-packages (from fasttext) (57.0.0)\n",
            "Requirement already satisfied: numpy in /usr/local/lib/python3.7/dist-packages (from fasttext) (1.19.5)\n",
            "Building wheels for collected packages: fasttext\n",
            "  Building wheel for fasttext (setup.py) ... \u001b[?25l\u001b[?25hdone\n",
            "  Created wheel for fasttext: filename=fasttext-0.9.2-cp37-cp37m-linux_x86_64.whl size=3093625 sha256=67786c0a06db186d8d78c474f5c4d51cdc763b5724a80eb3b6a4f9cbd345e58a\n",
            "  Stored in directory: /root/.cache/pip/wheels/98/ba/7f/b154944a1cf5a8cee91c154b75231136cc3a3321ab0e30f592\n",
            "Successfully built fasttext\n",
            "Installing collected packages: fasttext\n",
            "Successfully installed fasttext-0.9.2\n"
          ],
          "name": "stdout"
        }
      ]
    },
    {
      "cell_type": "code",
      "metadata": {
        "id": "msGXNd2SoUDZ"
      },
      "source": [
        "import fasttext"
      ],
      "execution_count": null,
      "outputs": []
    },
    {
      "cell_type": "code",
      "metadata": {
        "colab": {
          "base_uri": "https://localhost:8080/"
        },
        "id": "7YJ12zhfoVv5",
        "outputId": "1b765457-788e-47f7-9950-a9274c3266de"
      },
      "source": [
        "ft = fasttext.load_model('/content/gdrive/MyDrive/Colab Notebooks/Tugas Akhir/cc.id.300.bin')"
      ],
      "execution_count": null,
      "outputs": [
        {
          "output_type": "stream",
          "text": [
            "Warning : `load_model` does not return WordVectorModel or SupervisedModel any more, but a `FastText` object which is very similar.\n"
          ],
          "name": "stderr"
        }
      ]
    },
    {
      "cell_type": "code",
      "metadata": {
        "id": "JxyGCc9EoYoJ"
      },
      "source": [
        "embeddings_index = dict()\n",
        "for word in ft.words:\n",
        "  coefs = np.asarray(ft.get_word_vector(str(word)).tolist(), dtype='float32')\n",
        "  embeddings_index[word] = coefs"
      ],
      "execution_count": null,
      "outputs": []
    },
    {
      "cell_type": "code",
      "metadata": {
        "id": "DHIT-Fh1pNWg"
      },
      "source": [
        "\n",
        "max_length = dataset.processed_text.apply(lambda x: len(x.split())).max()\n",
        "\n",
        "t = Tokenizer()\n",
        "t.fit_on_texts(dataset.processed_text)\n",
        "vocab_size = len(t.word_index) + 1\n",
        "encoded_tweets = t.texts_to_sequences(dataset.processed_text)\n",
        "padded_tweets = pad_sequences(encoded_tweets, maxlen=max_length, padding='post')\n",
        "\n",
        "vocab_size = len(t.word_index) + 1"
      ],
      "execution_count": null,
      "outputs": []
    },
    {
      "cell_type": "code",
      "metadata": {
        "id": "NasCSFGgpPEA"
      },
      "source": [
        "embedding_matrix = np.zeros((vocab_size, 300))\n",
        "for word, i in t.word_index.items():\n",
        "    embedding_vector = embeddings_index.get(word)\n",
        "    if embedding_vector is not None:\n",
        "        embedding_matrix[i] = embedding_vector"
      ],
      "execution_count": null,
      "outputs": []
    },
    {
      "cell_type": "code",
      "metadata": {
        "id": "zc3lvxW6pQhp"
      },
      "source": [
        "\n",
        "x_train, x_test, y_train, y_test = train_test_split(padded_tweets, dataset.sentiment, test_size=0.1, stratify=dataset.sentiment,random_state=3)"
      ],
      "execution_count": null,
      "outputs": []
    },
    {
      "cell_type": "code",
      "metadata": {
        "id": "r69jPs8TpR-4"
      },
      "source": [
        "from tensorflow import keras\n",
        "model_glove = Sequential()\n",
        "model_glove.add(Embedding(vocab_size, 300\n",
        ", input_length=max_length, weights=[embedding_matrix], trainable=True))\n",
        "model_glove.add(Bidirectional(LSTM(128,dropout=0.3, recurrent_dropout=0.3, return_sequences=True)))\n",
        "model_glove.add(BatchNormalization())\n",
        "model_glove.add(Bidirectional(LSTM(64,dropout=0.3,recurrent_dropout=0.3,return_sequences=False)))\n",
        "model_glove.add(BatchNormalization())\n",
        "model_glove.add(Dense(64, activation='relu'))\n",
        "model_glove.add(Dense(64, activation='relu'))\n",
        "model_glove.add(Dense(1, activation='sigmoid'))\n",
        "opt = keras.optimizers.RMSprop(learning_rate=0.0001)\n",
        "model_glove.compile(loss='binary_crossentropy', optimizer=opt, metrics=['accuracy'])"
      ],
      "execution_count": null,
      "outputs": []
    },
    {
      "cell_type": "code",
      "metadata": {
        "colab": {
          "base_uri": "https://localhost:8080/",
          "height": 976
        },
        "id": "wfE6P-G-Cvy6",
        "outputId": "70b5aeef-dd09-4b03-ccf4-034abd2fab0b"
      },
      "source": [
        "from keras.models import Sequential\n",
        "from keras.layers import Dense\n",
        "from keras.utils.vis_utils import plot_model\n",
        "plot_model(model_glove, to_file='/content/gdrive/MyDrive/Colab Notebooks/Tugas Akhir/Model/Negative Detection/Learning Rate/0.01/model_plot.png', show_shapes=True, show_layer_names=True)"
      ],
      "execution_count": null,
      "outputs": [
        {
          "output_type": "execute_result",
          "data": {
            "image/png": "[encoded data removed]",
            "text/plain": [
              "<IPython.core.display.Image object>"
            ]
          },
          "metadata": {
            "tags": []
          },
          "execution_count": 33
        }
      ]
    },
    {
      "cell_type": "code",
      "metadata": {
        "colab": {
          "base_uri": "https://localhost:8080/"
        },
        "id": "TCLM590r0VaL",
        "outputId": "8c994613-b1ee-4b03-9f7d-bc60815e590d"
      },
      "source": [
        "model_glove.summary()"
      ],
      "execution_count": null,
      "outputs": [
        {
          "output_type": "stream",
          "text": [
            "Model: \"sequential_1\"\n",
            "_________________________________________________________________\n",
            "Layer (type)                 Output Shape              Param #   \n",
            "=================================================================\n",
            "embedding_1 (Embedding)      (None, 66, 300)           3923700   \n",
            "_________________________________________________________________\n",
            "bidirectional_2 (Bidirection (None, 66, 256)           439296    \n",
            "_________________________________________________________________\n",
            "batch_normalization_2 (Batch (None, 66, 256)           1024      \n",
            "_________________________________________________________________\n",
            "bidirectional_3 (Bidirection (None, 128)               164352    \n",
            "_________________________________________________________________\n",
            "batch_normalization_3 (Batch (None, 128)               512       \n",
            "_________________________________________________________________\n",
            "dense_3 (Dense)              (None, 64)                8256      \n",
            "_________________________________________________________________\n",
            "dense_4 (Dense)              (None, 64)                4160      \n",
            "_________________________________________________________________\n",
            "dense_5 (Dense)              (None, 1)                 65        \n",
            "=================================================================\n",
            "Total params: 4,541,365\n",
            "Trainable params: 4,540,597\n",
            "Non-trainable params: 768\n",
            "_________________________________________________________________\n"
          ],
          "name": "stdout"
        }
      ]
    },
    {
      "cell_type": "markdown",
      "metadata": {
        "id": "Zqm6RvZv9aJ1"
      },
      "source": [
        ""
      ]
    },
    {
      "cell_type": "code",
      "metadata": {
        "colab": {
          "base_uri": "https://localhost:8080/"
        },
        "id": "JVvGVgtmpoYI",
        "outputId": "954d3604-726f-4599-88d7-36fb9b0f8d80"
      },
      "source": [
        "history=model_glove.fit(x_train, y_train, epochs = 4, batch_size=64, validation_data=(x_test, y_test))"
      ],
      "execution_count": null,
      "outputs": [
        {
          "output_type": "stream",
          "text": [
            "Epoch 1/4\n",
            "170/170 [==============================] - 229s 1s/step - loss: 0.6097 - accuracy: 0.6576 - val_loss: 0.6479 - val_accuracy: 0.7322\n",
            "Epoch 2/4\n",
            "170/170 [==============================] - 185s 1s/step - loss: 0.3871 - accuracy: 0.8353 - val_loss: 0.4702 - val_accuracy: 0.8433\n",
            "Epoch 3/4\n",
            "170/170 [==============================] - 185s 1s/step - loss: 0.3285 - accuracy: 0.8554 - val_loss: 0.3221 - val_accuracy: 0.8756\n",
            "Epoch 4/4\n",
            "170/170 [==============================] - 185s 1s/step - loss: 0.2861 - accuracy: 0.8772 - val_loss: 0.2795 - val_accuracy: 0.8847\n"
          ],
          "name": "stdout"
        }
      ]
    },
    {
      "cell_type": "code",
      "metadata": {
        "id": "7pRrba4apsGA"
      },
      "source": [
        "y_pred = model_glove.predict(x_test)"
      ],
      "execution_count": null,
      "outputs": []
    },
    {
      "cell_type": "code",
      "metadata": {
        "id": "73LH1yaOQzoV",
        "colab": {
          "base_uri": "https://localhost:8080/"
        },
        "outputId": "5d6ff2ed-51a7-404b-9e9b-d0a55b6ce40c"
      },
      "source": [
        "y_test"
      ],
      "execution_count": null,
      "outputs": [
        {
          "output_type": "execute_result",
          "data": {
            "text/plain": [
              "1979     1\n",
              "9594     0\n",
              "7064     0\n",
              "10874    0\n",
              "1229     1\n",
              "        ..\n",
              "9700     0\n",
              "4079     1\n",
              "9895     0\n",
              "11442    0\n",
              "12010    0\n",
              "Name: sentiment, Length: 1206, dtype: int64"
            ]
          },
          "metadata": {
            "tags": []
          },
          "execution_count": 48
        }
      ]
    },
    {
      "cell_type": "code",
      "metadata": {
        "colab": {
          "base_uri": "https://localhost:8080/"
        },
        "id": "Dts7AC6C5api",
        "outputId": "dcee20f8-dfe2-4d99-f99b-9ce8e95ad865"
      },
      "source": [
        "y_pred"
      ],
      "execution_count": null,
      "outputs": [
        {
          "output_type": "execute_result",
          "data": {
            "text/plain": [
              "array([[0.9210626 ],\n",
              "       [0.00253612],\n",
              "       [0.01174557],\n",
              "       ...,\n",
              "       [0.00650755],\n",
              "       [0.3298964 ],\n",
              "       [0.10127124]], dtype=float32)"
            ]
          },
          "metadata": {
            "tags": []
          },
          "execution_count": 49
        }
      ]
    },
    {
      "cell_type": "code",
      "metadata": {
        "colab": {
          "base_uri": "https://localhost:8080/",
          "height": 453
        },
        "id": "KiTqHnLRsdj7",
        "outputId": "dfb093be-6c02-4c66-8ad8-327275777193"
      },
      "source": [
        "pr, rc, thresholds = precision_recall_curve(y_test, y_pred)\n",
        "plt.plot(thresholds, pr[1:])\n",
        "plt.plot(thresholds, rc[1:])\n",
        "plt.show()\n",
        "crossover_index = np.max(np.where(pr == rc))\n",
        "crossover_cutoff = thresholds[crossover_index]\n",
        "crossover_recall = rc[crossover_index]\n",
        "print(\"Crossover at {0:.2f} with recall {1:.2f}\".format(crossover_cutoff, crossover_recall))\n",
        "print(classification_report(y_test, y_pred > crossover_cutoff))\n",
        "\n"
      ],
      "execution_count": null,
      "outputs": [
        {
          "output_type": "display_data",
          "data": {
            "image/png": "[encoded data removed]",
            "text/plain": [
              "<Figure size 432x288 with 1 Axes>"
            ]
          },
          "metadata": {
            "tags": [],
            "needs_background": "light"
          }
        },
        {
          "output_type": "stream",
          "text": [
            "Crossover at 0.64 with recall 0.89\n",
            "              precision    recall  f1-score   support\n",
            "\n",
            "           0       0.89      0.89      0.89       605\n",
            "           1       0.89      0.89      0.89       601\n",
            "\n",
            "    accuracy                           0.89      1206\n",
            "   macro avg       0.89      0.89      0.89      1206\n",
            "weighted avg       0.89      0.89      0.89      1206\n",
            "\n"
          ],
          "name": "stdout"
        }
      ]
    },
    {
      "cell_type": "code",
      "metadata": {
        "id": "knchhbZOsfSI"
      },
      "source": [
        "from sklearn.metrics import confusion_matrix, classification_report\n",
        "\n",
        "def ConfusionMatrix(y_pred, y_test):\n",
        "    # Compute and plot the Confusion matrix\n",
        "    cf_matrix = confusion_matrix(y_test, y_pred)\n",
        "\n",
        "    categories  = ['Negative','Positive']\n",
        "    group_names = ['True Neg','False Pos', 'False Neg','True Pos']\n",
        "    group_percentages = ['{0:.2%}'.format(value) for value in cf_matrix.flatten() / np.sum(cf_matrix)]\n",
        "    group_counts = [\"{0:0.0f}\".format(value) for value in \n",
        "                    cf_matrix.flatten()]\n",
        "\n",
        "\n",
        "    labels = [f'{v1}\\n{v2}' for v1, v2 in zip(group_names,group_percentages)]\n",
        "    labels = [f\"{v1}\\n{v2}\\n{v3}\" for v1, v2, v3 in\n",
        "          zip(group_names,group_counts,group_percentages)]\n",
        "    labels = np.asarray(labels).reshape(2,2)\n",
        "\n",
        "    sns.heatmap(cf_matrix, annot = labels, cmap = 'Blues',fmt = '',\n",
        "                xticklabels = categories, yticklabels = categories)\n",
        "\n",
        "    plt.xlabel(\"Predicted values\", fontdict = {'size':14}, labelpad = 10)\n",
        "    plt.ylabel(\"Actual values\"   , fontdict = {'size':14}, labelpad = 10)\n",
        "    plt.title (\"Confusion Matrix\", fontdict = {'size':18}, pad = 20)"
      ],
      "execution_count": null,
      "outputs": []
    },
    {
      "cell_type": "code",
      "metadata": {
        "id": "jthXPBO4RxmR",
        "colab": {
          "base_uri": "https://localhost:8080/",
          "height": 680
        },
        "outputId": "30b85ba0-315e-4aca-a2a3-67ebb3c26bd7"
      },
      "source": [
        "# Predicting on the Test dataset.\n",
        "y_pred = model_glove.predict(x_test)\n",
        "print(y_pred)\n",
        "print(y_test)\n",
        "# Converting prediction to reflect the sentiment predicted.\n",
        "y_pred = np.where(y_pred>=0.64, 1, 0)\n",
        "\n",
        "# Printing out the Evaluation metrics. \n",
        "ConfusionMatrix(y_pred, y_test)\n"
      ],
      "execution_count": null,
      "outputs": [
        {
          "output_type": "stream",
          "text": [
            "[[0.9210626 ]\n",
            " [0.00253612]\n",
            " [0.01174557]\n",
            " ...\n",
            " [0.00650755]\n",
            " [0.3298964 ]\n",
            " [0.10127124]]\n",
            "1979     1\n",
            "9594     0\n",
            "7064     0\n",
            "10874    0\n",
            "1229     1\n",
            "        ..\n",
            "9700     0\n",
            "4079     1\n",
            "9895     0\n",
            "11442    0\n",
            "12010    0\n",
            "Name: sentiment, Length: 1206, dtype: int64\n"
          ],
          "name": "stdout"
        },
        {
          "output_type": "display_data",
          "data": {
            "image/png": "[encoded data removed]",
            "text/plain": [
              "<Figure size 432x288 with 2 Axes>"
            ]
          },
          "metadata": {
            "tags": [],
            "needs_background": "light"
          }
        }
      ]
    },
    {
      "cell_type": "code",
      "metadata": {
        "id": "AZjRrkUPtUzg"
      },
      "source": [
        "model_glove.save(\"/content/gdrive/MyDrive/Colab Notebooks/Tugas Akhir/Model/Negative Detection/Block LSTM/2 Block/Negative Detection 2 Block BiLSTM learning RMSProp 0.0001 Model.h5\")"
      ],
      "execution_count": null,
      "outputs": []
    }
  ]
}